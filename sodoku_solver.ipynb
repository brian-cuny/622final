{
 "cells": [
  {
   "cell_type": "code",
   "execution_count": 1,
   "metadata": {
    "collapsed": true
   },
   "outputs": [],
   "source": [
    "import pandas as pd\n",
    "from pandas import DataFrame, Series\n",
    "import numpy as np"
   ]
  },
  {
   "cell_type": "code",
   "execution_count": 2,
   "metadata": {},
   "outputs": [],
   "source": [
    "info = np.array([[0, 8, 0, 0, 0, 0, 2, 0, 0], \n",
    "                 [0, 0, 0, 0, 8, 4, 0, 9, 0], \n",
    "                 [0, 0, 6, 3, 2, 0, 0, 1, 0], \n",
    "                 [0, 9, 7, 0, 0, 0, 0, 8, 0], \n",
    "                 [8, 0, 0, 9, 0, 3, 0, 0, 2], \n",
    "                 [0, 1, 0, 0, 0, 0, 9, 5, 0], \n",
    "                 [0, 7, 0, 0, 4, 5, 8, 0, 0], \n",
    "                 [0, 3, 0, 7, 1, 0, 0, 0, 0], \n",
    "                 [0, 0, 8, 0, 0, 0, 0, 4, 0]])"
   ]
  },
  {
   "cell_type": "code",
   "execution_count": 3,
   "metadata": {},
   "outputs": [],
   "source": [
    "def possible(info):\n",
    "    for ele in range(81):\n",
    "        if info[ele//9, ele%9] != 0:\n",
    "            yield np.array([info[ele//9, ele%9]])\n",
    "        else:\n",
    "            invalid = np.unique(np.concatenate([info[ele//9, :], \n",
    "                                                info[:, ele%9], \n",
    "                                                info[ele//9-ele//9 % 3: ele//9-ele//9 % 3+3, \n",
    "                                                     ele % 9-ele % 3: ele % 9-ele % 3+3\n",
    "                                                    ].flatten()\n",
    "                                                ]))\n",
    "            yield np.array([i for i in range(1, 10) if i not in invalid])\n",
    "            \n",
    "            \n",
    "puzzle = DataFrame(data={'possible': [x for x in possible(info)]})"
   ]
  },
  {
   "cell_type": "code",
   "execution_count": 34,
   "metadata": {},
   "outputs": [
    {
     "data": {
      "text/plain": [
       "array([[7., 8., 4., 1., 9., 6., 2., 3., 5.],\n       [3., 2., 1., 5., 8., 4., 6., 9., 7.],\n       [9., 5., 6., 3., 2., 7., 4., 1., 8.],\n       [2., 9., 7., 4., 5., 1., 3., 8., 6.],\n       [8., 4., 5., 9., 6., 3., 1., 7., 2.],\n       [6., 1., 3., 8., 7., 2., 9., 5., 4.],\n       [1., 7., 9., 6., 4., 5., 8., 2., 3.],\n       [4., 3., 2., 7., 1., 8., 5., 6., 9.],\n       [5., 6., 8., 2., 3., 9., 7., 4., 1.]])"
      ]
     },
     "execution_count": 34,
     "metadata": {},
     "output_type": "execute_result"
    }
   ],
   "source": [
    "mapping"
   ]
  },
  {
   "cell_type": "code",
   "execution_count": 38,
   "metadata": {},
   "outputs": [
    {
     "name": "stdout",
     "output_type": "stream",
     "text": [
      "[[7. 8. 4. 1. 9. 6. 2. 3. 5.]\n [3. 2. 1. 5. 8. 4. 6. 9. 7.]\n [9. 5. 6. 3. 2. 7. 4. 1. 8.]\n [2. 9. 7. 4. 5. 1. 3. 8. 6.]\n [8. 4. 5. 9. 6. 3. 1. 7. 2.]\n [6. 1. 3. 8. 7. 2. 9. 5. 4.]\n [1. 7. 9. 6. 4. 5. 8. 2. 3.]\n [4. 3. 2. 7. 1. 8. 5. 6. 9.]\n [5. 6. 8. 2. 3. 9. 7. 4. 1.]]\n"
     ]
    }
   ],
   "source": [
    "# %%timeit \n",
    "i = 0\n",
    "mapping = np.zeros((9, 9))\n",
    "while i != 81:\n",
    "    # previous mistake, backing up\n",
    "    possibles = puzzle.iat[i, 0]\n",
    "    \n",
    "    if mapping[i//9, i % 9] == np.max(possibles):\n",
    "        mapping[i//9, i % 9] = 0\n",
    "        i -= 1\n",
    "        continue\n",
    "    else:\n",
    "        set_possibles = set(possibles[np.where(possibles > mapping[i//9, i%9])])        \n",
    "        invalid = set(np.concatenate([mapping[i//9, 0:i%9],\n",
    "                                      mapping[0:i//9, i%9],\n",
    "                                      mapping[i//9-i//9%3:i//9, i%9 - i%3:i%9 - i%3 + 3].flatten()\n",
    "                                     ]))\n",
    "\n",
    "        results = set_possibles - invalid\n",
    "        if len(results) == 0:\n",
    "            mapping[i//9, i%9] = 0\n",
    "            i -= 1\n",
    "        else:\n",
    "            mapping[i//9, i%9] = min(results)\n",
    "            i += 1\n",
    "\n",
    "print(mapping)"
   ]
  }
 ],
 "metadata": {
  "kernelspec": {
   "display_name": "Python 2",
   "language": "python",
   "name": "python2"
  },
  "language_info": {
   "codemirror_mode": {
    "name": "ipython",
    "version": 2
   },
   "file_extension": ".py",
   "mimetype": "text/x-python",
   "name": "python",
   "nbconvert_exporter": "python",
   "pygments_lexer": "ipython2",
   "version": "2.7.6"
  }
 },
 "nbformat": 4,
 "nbformat_minor": 0
}
