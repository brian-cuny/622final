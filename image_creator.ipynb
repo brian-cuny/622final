{
 "cells": [
  {
   "cell_type": "code",
   "execution_count": 16,
   "metadata": {
    "collapsed": false
   },
   "outputs": [],
   "source": [
    "import image_slicer\n",
    "import cv2\n",
    "import numpy as np\n",
    "import os"
   ]
  },
  {
   "cell_type": "code",
   "execution_count": 122,
   "metadata": {},
   "outputs": [],
   "source": [
    "for file in os.listdir('.\\\\raw'):\n",
    "    separate_file(os.path.join('.\\\\raw', file))"
   ]
  },
  {
   "cell_type": "code",
   "execution_count": 120,
   "metadata": {},
   "outputs": [],
   "source": [
    "np.set_printoptions(threshold=np.inf)\n",
    "\n",
    "\n",
    "def separate_file(file_name):\n",
    "    if not os.path.exists('.\\\\temp'): \n",
    "        os.mkdir('.\\\\temp')\n",
    "    \n",
    "    #clear outer white border\n",
    "    original = cv2.imread(file_name, 0)\n",
    "    mask = original > 30\n",
    "    \n",
    "    mask_left = mask[:, 0:mask.shape[1]//2]\n",
    "    left = np.max(np.append(np.where(mask_left.all(axis=0))[0], 0))\n",
    "    \n",
    "    mask_right = mask[:, mask.shape[1]//2:mask.shape[1]]\n",
    "    right = np.min(np.append(np.where(mask_right.all(axis=0))[0], mask.shape[1]//2)) + mask.shape[1]//2\n",
    "    \n",
    "    mask_top = mask[0:mask.shape[0]//2, :]\n",
    "    top = np.max(np.append(np.where(mask_top.all(axis=1))[0], 0))\n",
    "    \n",
    "    mask_bottom = mask[mask.shape[0]//2:mask.shape[0], :]\n",
    "    bottom = np.min(np.append(np.where(mask_bottom.all(axis=1))[0], mask.shape[0]//2)) + mask.shape[0]//2\n",
    "    \n",
    "    if abs(left - right) < original.shape[1] * .1 or abs(top - bottom) < original.shape[0] * .1:\n",
    "        cv2.imwrite(os.path.join('.\\\\temp', 'original.jpg'), original)\n",
    "    else:\n",
    "        cv2.imwrite(os.path.join('.\\\\temp', 'original.jpg'), original[top:bottom, left:right])\n",
    "\n",
    "    #slice into singles\n",
    "    tiles = image_slicer.slice(os.path.join('.\\\\temp', 'original.jpg'), 81, save=False)\n",
    "    image_slicer.save_tiles(tiles, directory='.\\\\temp', prefix='temp')\n",
    "    \n",
    "    #box around original\n",
    "    for i in range(1, 10):\n",
    "        for j in range(1, 10):\n",
    "            file = cv2.imread(os.path.join('.\\\\temp', f'temp_0{j}_0{i}.png'), 0)\n",
    "            mask = file < 235\n",
    "            \n",
    "            mask_left = mask[:, 0:mask.shape[1]//2]\n",
    "            left = np.max(np.append(np.where(mask_left.all(axis=0))[0], 0))\n",
    "            \n",
    "            mask_right = mask[:, mask.shape[1]//2:mask.shape[1]]\n",
    "            right = np.min(np.append(np.where(mask_right.all(axis=0))[0], mask.shape[1]//2)) + mask.shape[1]//2\n",
    "            \n",
    "            mask_top = mask[0:mask.shape[0]//2, :]\n",
    "            top = np.max(np.append(np.where(mask_top.all(axis=1))[0], 0))\n",
    "            \n",
    "            mask_bottom = mask[mask.shape[0]//2:mask.shape[0], :]\n",
    "            bottom = np.min(np.append(np.where(mask_bottom.all(axis=1))[0], mask.shape[0]//2)) + mask.shape[0]//2\n",
    "            \n",
    "            best = max([left, top, file.shape[0]-bottom, file.shape[1]-right])       \n",
    "            file = file[best+1:file.shape[0]-best-1, best+1:file.shape[1]-best-1]\n",
    "            \n",
    "            mask = file < 200\n",
    "            coords = np.argwhere(mask)\n",
    "            if len(coords) == 0:\n",
    "                cv2.imwrite(os.path.join(\".\\\\output\", f'{file_name[6:8]}{j}{i}.jpg'), cv2.resize(file, (28, 28)))\n",
    "            else:\n",
    "                x0, y0 = coords.min(axis=0)\n",
    "                x1, y1 = coords.max(axis=0) + 1\n",
    "                cv2.imwrite(os.path.join(\".\\\\output\", f'{file_name[6:8]}{j}{i}.jpg'), cv2.resize(file[x0:x1, y0:y1], (28, 28)))\n",
    "        \n",
    "    #delete temp files\n",
    "    for file in os.listdir('.\\\\temp'):\n",
    "        os.unlink(os.path.join('.\\\\temp', file))\n",
    "    os.rmdir('.\\\\temp')"
   ]
  }
 ],
 "metadata": {
  "kernelspec": {
   "display_name": "Python 2",
   "language": "python",
   "name": "python2"
  },
  "language_info": {
   "codemirror_mode": {
    "name": "ipython",
    "version": 2
   },
   "file_extension": ".py",
   "mimetype": "text/x-python",
   "name": "python",
   "nbconvert_exporter": "python",
   "pygments_lexer": "ipython2",
   "version": "2.7.6"
  }
 },
 "nbformat": 4,
 "nbformat_minor": 0
}
