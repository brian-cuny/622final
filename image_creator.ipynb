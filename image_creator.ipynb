{
 "cells": [
  {
   "cell_type": "code",
   "execution_count": 2,
   "metadata": {
    "collapsed": true
   },
   "outputs": [],
   "source": [
    "%matplotlib inline\n",
    "import cv2\n",
    "import image_slicer\n",
    "import matplotlib.pyplot as plt\n",
    "import matplotlib"
   ]
  },
  {
   "cell_type": "code",
   "execution_count": 16,
   "metadata": {},
   "outputs": [],
   "source": [
    "#1 image into 9 cropped images\n",
    "tiles = image_slicer.slice('test.png', 81, save=False)\n",
    "image_slicer.save_tiles(tiles, directory='.\\\\test')\n",
    "for i in range(1, 4):\n",
    "    for j in range(1, 4):\n",
    "        img = cv2.bitwise_not(cv2.imread(f'./test/_0{j}_0{i}.png', 0))\n",
    "        crop_top = 0\n",
    "        # while True:\n",
    "        #     if img[crop_top][img.shape[1]//2] == 0:\n",
    "        #         break\n",
    "        #     crop_top += 1\n",
    "        crop_bottom = img.shape[0] - 1\n",
    "        # while True:\n",
    "        #     if img[crop_bottom][img.shape[1]//2] == 0:\n",
    "        #         break\n",
    "        #     crop_bottom -= 1\n",
    "        crop_left = 0\n",
    "        # while True:\n",
    "        #     if img[img.shape[0]//2][crop_left] == 0:\n",
    "        #         break\n",
    "        #     crop_left += 1\n",
    "        crop_right = img.shape[1] - 1\n",
    "        # while True:\n",
    "        #     if img[img.shape[0]//2][crop_right] == 0:\n",
    "        #         break\n",
    "        #     crop_right -= 1\n",
    "        # while (crop_right - crop_left) % 3 != 0:\n",
    "        #     crop_right -= 1\n",
    "        #     crop_left += 1\n",
    "        # while (crop_bottom - crop_top) % 3 != 0:\n",
    "        #     crop_top += 1\n",
    "        #     crop_bottom -= 1\n",
    "        img_cropped = img[crop_top:crop_bottom, crop_left:crop_right]\n",
    "        cv2.imwrite(f'{j}_{i}.png', cv2.bitwise_not(img_cropped))"
   ]
  },
  {
   "cell_type": "code",
   "execution_count": 138,
   "metadata": {},
   "outputs": [],
   "source": [
    "file = cv2.imread(f'./image/_03_05.png', 0)\n",
    "mask = file < 200\n",
    "\n",
    "# mask left\n",
    "mask_left = mask[:, 0:mask.shape[1]//2]\n",
    "left = np.max(np.append(np.where(mask_left.all(axis=0))[0], 0))\n",
    "\n",
    "\n",
    "mask_right = mask[:, mask.shape[1]//2:mask.shape[1]]\n",
    "right = np.min(np.append(np.where(mask_right.all(axis=0))[0], mask.shape[1]//2)) + mask.shape[1]//2\n",
    "\n",
    "mask_top = mask[0:mask.shape[0]//2, :]\n",
    "top = np.max(np.append(np.where(mask_top.all(axis=1))[0], 0))\n",
    "\n",
    "mask_bottom = mask[mask.shape[0]//2:mask.shape[0], :]\n",
    "bottom = np.min(np.append(np.where(mask_bottom.all(axis=1))[0], mask.shape[0]//2)) + mask.shape[0]//2\n",
    "\n",
    "\n",
    "file = file[top+1:bottom-1, left+1:right-1]\n",
    "\n",
    "cv2.imwrite(f'output.png', file)\n",
    "\n",
    "\n",
    "# bound even further around digit looking for first/last row/column without all white\n",
    "\n",
    "mask = file < 200\n",
    "coords = np.argwhere(mask)\n",
    "if len(coords) == 0:\n",
    "    cv2.imwrite(f'output.png', file)\n",
    "else:\n",
    "    x0, y0 = coords.min(axis=0)\n",
    "    x1, y1 = coords.max(axis=0) + 1\n",
    "    print(x0)\n",
    "    print(x1)\n",
    "    print(y0)\n",
    "    print(y1)\n",
    "    cv2.imwrite(f'output.png', file[x0:x1, y0:y1])"
   ]
  },
  {
   "cell_type": "code",
   "execution_count": 14,
   "metadata": {},
   "outputs": [
    {
     "name": "stdout",
     "output_type": "stream",
     "text": [
      "0\n[  0   0   0   0   1   1   0   0   1   0   1   0   1   1   0   0   1   1\n   0   0   0   1   1   1   1   0   0   1   0   1   0   0   0   1   1   0\n   1   0   1   1   0   0   0   0   1   0   0   0   1   0   1   0   1   1\n   0   0   0   1   0   0   0   0   0   1   1   0   0   1   0   0   1   0\n   0   0   1   0   0   1   1   0   0   1   0   0   0   0   0   1   0   0\n   1   0   0   1   0   1   0   0   0   0   1   0   1 177 255 255 255]\nFalse\n0\n[153 153 153 153 153 153 153 153 153 153 153 153 153 153 153 153 153 153\n 153 153 153 153 153 153 153 153 153 153 153 153 153 153 153 153 153 153\n 153 153 153 153 153 153 153 153 153 153 153 153 153 153 153 153 153 153\n 153 153 153 153 153 153 153 153 153 153 153 153 153 153 153 153 153 153\n 153 153 153 153 153 153 153 153 153 153 153 153 153 153 153 153 153 153\n 153 153 153 153 153 153 153 153 153 153 153 153 153 224 255 255 255]\nTrue\n1\n[  0   1   0   1   0   0   0   0   0   0   0   1   0   0   1   1   1   1\n   1   1   1   1   1   0   1   1   1   0   1   0   1   1   0   0   0   1\n   0   1   0   1   1   1   0   1   1   0   1   1   1   1   1   0   1   1\n   0   1   1   1   0   1   1   0   1   1   1   1   0   1   0   0   0   1\n   1   1   0   1   1   0   1   0   0   1   1   1   1   1   1   1   0   1\n   1   1   1   0   0   1   0   1   1   1   1   0   1 177 255 255 255]\nFalse\n0\n[ 64  64  64  64  64  64  64  64  64  64  64  64  64  64  64  64  64  64\n  64  64  64  64  64  64  64  64  64  64  64  64  64  64  64  64  64  64\n  64  64  64  64  64  64  64  64  64  64  64  64  64  64  64  64  64  64\n  64  64  64  64  64  64  64  64  64  64  64  64  64  64  64  64  64  64\n  64  64  64  64  64  64  64  64  64  64  64  64  64  64  64  64  64  64\n  64  64  64  64  64  64  64  64  64  64  64  64  64 197 255 255 255]\nTrue\n1\n[255 255 255 255 255 255 255 255 255 255 255 255 255 255 255 255 255 255\n 255 255 255 255 255 255 255 255 255 255 255 255 255 255 255 255 255 255\n 255 255 255 255 255 255 255 255 255 255 255 255 255 255 255 255 255 255\n 255 255 255 255 255 255 255 255 255 255 255 255 255 255 255 255 255 255\n 255 255 255 255 255 255 255 255 255 255 255 255 255 255 255 255 255 255\n 255 255 255 255 255 255 255 255 255 255 255 255 255 255 255 255 255]\nTrue\n2\n[255 255 255 255 255 255 255 255 255 255 255 255 255 255 255 255 255 255\n 255 255 255 255 255 255 255 255 255 255 255 255 255 255 255 255 255 255\n 255 255 255 255 255 255 255 255 255 255 255 255 255 255 255 255 255 255\n 255 255 255 255 255 255 255 255 255 255 255 255 255 255 255 255 255 255\n 255 255 255 255 255 255 255 255 255 255 255 255 255 255 255 255 255 255\n 255 255 255 255 255 255 255 255 255 255 255 255 255 255 255 255 255]\nTrue\n3\n[255 255 255 255 255 255 255 255 255 255 255 255 255 255 255 255 255 255\n 255 255 255 255 255 255 255 255 255 255 255 255 255 255 255 255 255 255\n 255 255 255 255 255 255 255 255 255 255 255 255 255 255 255 255 255 255\n 255 255 255 255 255 255 255 255 255 255 255 255 255 255 255 255 255 255\n 255 255 255 255 255 255 255 255 255 255 255 255 255 255 255 255 255 255\n 255 255 255 255 255 255 255 255 255 255 255 255 255 255 255 255 255]\nTrue\n4\n[255 255 255 255 255 255 255 255 255 255 255 255 255 255 255 255 255 255\n 255 255 255 255 255 255 255 255 255 255 255 255 255 255 255 255 255 255\n 255 255 255 255 255 255 255 255 255 255 255 255 255 255 255 255 255 255\n 255 255 255 255 255 255 255 255 255 255 255 255 255 255 255 255 255 255\n 255 255 255 255 255 255 255 255 255 255 255 255 255 255 255 255 255 255\n 255 255 255 255 255 255 255 255 255 255 255 255 255 255 255 255 255]\nTrue\n5\n[ 11  11  11  11  11  11  11  11  11  11  11  11  11  11  11  11  11  11\n  11  11  11  11  11  11  11  11  11  11  11  11  11  11  11  11  11  11\n  11  11  11  11  11  11  11  11  11  11  11  11  11  11  11  11  11  11\n  11  11  11  11  11  11  11  11  11  11  11  11  11  11  11  11  11  11\n  11  11  11  11  11  11  11  11  11  11  11  11  11  11  11  11  11  11\n  11  11  11  11  11  11  11  11  11  11  11  11  11 180 255 255 255]\nTrue\n6\n[  0   0   1   0   0   0   0   0   0   0   0   0   0   1   0   0   0   0\n   0   0   0   1   0   0   0   0   0   1   0   0   0   1   0   0   0   0\n   0   0   0   1   0   0   0   0   0   0   0   0   0   1   0   0   0   0\n   0   0   0   0   0   0   0   0   1   0   1   0   0   0   0   0   1   0\n   0   0   1   0   0   0   0   0   1   0   0   0   0   0   0   0   0   0\n   0   0   0   1   0   0   0   0   0   0   0   1   0 177 255 255 255]\nFalse\n0\n[153   0   1   1   0   1   0   1   1   0   1   0   0   1   0   0   1   1\n   1   1   1   0   0   1   1   0   0   0   1   1   0   0   1   1   1   1\n   0   0   1   1   0   0   0   1   1   0   1   1   0   1   0   0   0   1\n   0   0   0   0   0   1   0   0   0   1   0   0   1   1   0   0   0   0\n   0   1   1   1   0   1   0   0   1   0   0   1   0   0   1   0   1   0\n   0   1   0   0   0   0   0   1   0   1   0   0   0   0   1   0   0]\nFalse\n0\n[215 153 153 153 153 153 153 153 153 153 153 153 153 153 153 153 153 153\n 153 153 153 153 153 153 153 153 153 153 153 153 153 153 153 153 153 153\n 153 153 153 153 153 153 153 153 153 153 153 153 153 153 153 153 153 153\n 153 153 153 153 153 153 153 153 153 153 153 153 153 153 153 153 153 153\n 153 153 153 153 153 153 153 153 153 153 153 153 153 153 153 153 153 153\n 153 153 153 153 153 153 153 153 153 153 153 153 153 153 153 153 153]\nTrue\n1\n[153   1   1   0   0   1   1   1   0   1   0   1   0   0   0   1   1   1\n   1   0   1   1   0   1   0   1   1   1   0   1   0   0   0   1   0   1\n   1   1   0   1   0   1   1   0   1   1   1   1   1   0   0   1   1   1\n   0   1   1   1   0   0   1   1   0   1   0   0   0   1   0   1   1   0\n   1   0   1   1   1   1   0   1   1   1   1   1   0   1   1   0   1   0\n   0   1   0   1   1   1   0   0   0   0   0   0   0   0   0   0   0]\nFalse\n0\n[179  64  64  64  64  64  64  64  64  64  64  64  64  64  64  64  64  64\n  64  64  64  64  64  64  64  64  64  64  64  64  64  64  64  64  64  64\n  64  64  64  64  64  64  64  64  64  64  64  64  64  64  64  64  64  64\n  64  64  64  64  64  64  64  64  64  64  64  64  64  64  64  64  64  64\n  64  64  64  64  64  64  64  64  64  64  64  64  64  64  64  64  64  64\n  64  64  64  64  64  64  64  64  64  64  64  64  64  64  64  64  64]\nTrue\n1\n[255 255 255 255 255 255 255 255 255 255 255 255 255 255 255 255 255 255\n 255 255 255 255 255 255 255 255 255 255 255 255 255 255 255 255 255 255\n 255 255 255 255 255 255 255 255 255 255 255 255 255 255 255 255 255 255\n 255 255 255 255 255 255 255 255 255 255 255 255 255 255 255 255 255 255\n 255 255 255 255 255 255 255 255 255 255 255 255 255 255 255 255 255 255\n 255 255 255 255 255 255 255 255 255 255 255 255 255 255 255 255 255]\nTrue\n2\n[255 255 255 255 255 255 255 255 255 255 255 255 255 255 255 255 255 255\n 255 255 255 255 255 255 255 255 255 255 255 255 255 255 255 255 255 255\n 255 255 255 255 255 255 255 255 255 255 255 255 255 255 255 255 255 255\n 255 255 255 255 255 255 255 255 255 255 255 255 255 255 255 255 255 255\n 255 255 255 255 255 255 255 255 255 255 255 255 255 255 255 255 255 255\n 255 255 255 255 255 255 255 255 255 255 255 255 255 255 255 255 255]\nTrue\n3\n[255 255 255 255 255 255 255 255 255 255 255 255 255 255 255 255 255 255\n 255 255 255 255 255 255 255 255 255 255 255 255 255 255 255 255 255 255\n 255 255 255 255 255 255 255 255 255 255 255 255 255 255 255 255 255 255\n 255 255 255 255 255 255 255 255 255 255 255 255 255 255 255 255 255 255\n 255 255 255 255 255 255 255 255 255 255 255 255 255 255 255 255 255 255\n 255 255 255 255 255 255 255 255 255 255 255 255 255 255 255 255 255]\nTrue\n4\n[255 255 255 255 255 255 255 255 255 255 255 255 255 255 255 255 255 255\n 255 255 255 255 255 255 255 255 255 255 255 255 255 255 255 255 255 255\n 255 255 255 255 255 255 255 255 255 255 255 255 255 255 255 255 255 255\n 255 255 255 255 255 255 255 255 255 255 255 255 255 255 255 255 255 255\n 255 255 255 255 255 255 255 255 255 255 255 255 255 255 255 255 255 255\n 255 255 255 255 255 255 255 255 255 255 255 255 255 255 255 255 255]\nTrue\n5\n[158  11  11  11  11  11  11  11  11  11  11  11  11  11  11  11  11  11\n  11  11  11  11  11  11  11  11  11  11  11  11  11  11  11  11  11  11\n  11  11  11  11  11  11  11  11  11  11  11  11  11  11  11  11  11  11\n  11  11  11  11  11  11  11  11  11  11  11  11  11  11  11  11  11  11\n  11  11  11  11  11  11  11  11  11  11  11  11  11  11  11  11  11  11\n  11  11  11  11  11  11  11  11  11  11  11  11  11  11  11  11  11]\nTrue\n6\n[153   0   1   1   1   0   0   0   0   0   0   0   0   0   0   0   0   1\n   0   1   0   0   0   0   0   0   0   0   0   0   0   1   0   0   0   1\n   0   0   0   0   0   0   0   1   0   1   0   0   0   0   0   0   1   0\n   0   0   0   0   1   1   1   0   0   0   0   0   0   0   1   0   0   0\n   0   0   0   0   0   0   1   0   1   0   0   0   0   0   0   1   0   1\n   0   0   0   0   0   0   0   1   0   1   0   1   0   1   0   1   1]\nFalse\n0\n[  0  64 255 255 255 255  11   0   0   1   0   0   0   0   0   1   0   1\n   0   0   0   0   1   0   0   1   0   0   0   1   1   0   0   0   0   0\n   0   0   0   1   0   0   0   0   0   1   0   0   0   0   1   0   0   1\n   0   0   0   0   0   1   0   0   0   0   1   0   0   0   0   0   0   0\n   0   1   0   1   0   1   0   0   1   1   1   0   1   1   0   0   0   1\n   0   0   0   1   0   1   0   0   0   0   1   0   0   0   1   1   0]\nFalse\n0\n[153 179 255 255 255 255 158 153 153 153 153 153 153 153 153 153 153 153\n 153 153 153 153 153 153 153 153 153 153 153 153 153 153 153 153 153 153\n 153 153 153 153 153 153 153 153 153 153 153 153 153 153 153 153 153 153\n 153 153 153 153 153 153 153 153 153 153 153 153 153 153 153 153 153 153\n 153 153 153 153 153 153 153 153 153 153 153 153 153 153 153 153 153 153\n 153 153 153 153 153 153 153 153 153 153 153 153 153 153 153 153 153]\nTrue\n1\n[  0  64 255 255 255 255  11   0   1   0   0   0   0   0   0   0   0   0\n   0   0   0   0   0   0   1   0   0   0   0   0   0   0   0   0   0   0\n   0   0   0   0   0   0   1   1   0   0   0   0   1   0   0   0   0   0\n   0   0   0   1   0   0   0   0   1   0   0   0   0   1   0   0   0   0\n   0   0   0   0   1   0   0   0   0   1   0   0   0   0   0   0   0   0\n   0   0   0   0   0   0   0   0   0   0   0   0   0   0   1   0   0]\nFalse\n0\n[ 64 112 255 255 255 255  72  64  64  64  64  64  64  64  64  64  64  64\n  64  64  64  64  64  64  64  64  64  64  64  64  64  64  64  64  64  64\n  64  64  64  64  64  64  64  64  64  64  64  64  64  64  64  64  64  64\n  64  64  64  64  64  64  64  64  64  64  64  64  64  64  64  64  64  64\n  64  64  64  64  64  64  64  64  64  64  64  64  64  64  64  64  64  64\n  64  64  64  64  64  64  64  64  64  64  64  64  64  64  64  64  64]\nTrue\n1\n[255 255 255 255 255 255 255 255 255 255 255 255 255 255 255 255 255 255\n 255 255 255 255 255 255 255 255 255 255 255 255 255 255 255 255 255 255\n 255 255 255 255 255 255 255 255 255 255 255 255 255 255 255 255 255 255\n 255 255 255 255 255 255 255 255 255 255 255 255 255 255 255 255 255 255\n 255 255 255 255 255 255 255 255 255 255 255 255 255 255 255 255 255 255\n 255 255 255 255 255 255 255 255 255 255 255 255 255 255 255 255 255]\nTrue\n2\n[255 255 255 255 255 255 255 255 255 255 255 255 255 255 255 255 255 255\n 255 255 255 255 255 255 255 255 255 255 255 255 255 255 255 255 255 255\n 255 255 255 255 255 255 255 255 255 255 255 255 255 255 255 255 255 255\n 255 255 255 255 255 255 255 255 255 255 255 255 255 255 255 255 255 255\n 255 255 255 255 255 255 255 255 255 255 255 255 255 255 255 255 255 255\n 255 255 255 255 255 255 255 255 255 255 255 255 255 255 255 255 255]\nTrue\n3\n[255 255 255 255 255 255 255 255 255 255 255 255 255 255 255 255 255 255\n 255 255 255 255 255 255 255 255 255 255 255 255 255 255 255 255 255 255\n 255 255 255 255 255 255 255 255 255 255 255 255 255 255 255 255 255 255\n 255 255 255 255 255 255 255 255 255 255 255 255 255 255 255 255 255 255\n 255 255 255 255 255 255 255 255 255 255 255 255 255 255 255 255 255 255\n 255 255 255 255 255 255 255 255 255 255 255 255 255 255 255 255 255]\nTrue\n4\n[255 255 255 255 255 255 255 255 255 255 255 255 255 255 255 255 255 255\n 255 255 255 255 255 255 255 255 255 255 255 255 255 255 255 255 255 255\n 255 255 255 255 255 255 255 255 255 255 255 255 255 255 255 255 255 255\n 255 255 255 255 255 255 255 255 255 255 255 255 255 255 255 255 255 255\n 255 255 255 255 255 255 255 255 255 255 255 255 255 255 255 255 255 255\n 255 255 255 255 255 255 255 255 255 255 255 255 255 255 255 255 255]\nTrue\n5\n[ 11  72 255 255 255 255  21  11  11  11  11  11  11  11  11  11  11  11\n  11  11  11  11  11  11  11  11  11  11  11  11  11  11  11  11  11  11\n  11  11  11  11  11  11  11  11  11  11  11  11  11  11  11  11  11  11\n  11  11  11  11  11  11  11  11  11  11  11  11  11  11  11  11  11  11\n  11  11  11  11  11  11  11  11  11  11  11  11  11  11  11  11  11  11\n  11  11  11  11  11  11  11  11  11  11  11  11  11  11  11  11  11]\nTrue\n6\n[  1  64 255 255 255 255  11   0   1   0   1   0   1   1   1   1   1   1\n   0   1   1   1   0   1   0   1   1   1   0   0   0   1   0   1   1   1\n   0   1   1   1   0   1   1   1   1   0   1   0   1   0   0   0   0   0\n   1   0   1   0   1   1   1   0   1   0   1   0   1   0   1   0   1   1\n   1   0   1   1   1   1   0   0   1   0   1   1   0   1   1   1   0   1\n   0   1   0   1   0   1   0   1   0   1   0   1   1   1   0   1   1]\nFalse\n"
     ]
    }
   ],
   "source": [
    "import numpy as np\n",
    "\n",
    "#9 image into 81 cropped images\n",
    "tiles = image_slicer.slice('1_1.png', 9, save=False)\n",
    "image_slicer.save_tiles(tiles, directory='.\\\\test2')\n",
    "for i in range(1, 4):\n",
    "    for j in range(1, 4):\n",
    "        img = cv2.bitwise_not(cv2.imread(f'./test2/_0{j}_0{i}.png', 0))\n",
    "        crop_top = 0\n",
    "        while True:\n",
    "            print(crop_top)\n",
    "            print(img[crop_top])\n",
    "            print(np.all(img[crop_top]))\n",
    "            if not np.all(img[crop_top]):\n",
    "                crop_top += 1\n",
    "                break\n",
    "            crop_top += 1\n",
    "        crop_bottom = img.shape[0] - 1\n",
    "        while True:\n",
    "            if not np.all(img[crop_bottom]):\n",
    "                crop_bottom -= 1\n",
    "                break\n",
    "            crop_bottom -= 1\n",
    "        crop_left = 0\n",
    "        while True:\n",
    "            if not np.all(img[:, crop_left]):\n",
    "                crop_left += 1\n",
    "                break\n",
    "            crop_left += 1\n",
    "        crop_right = img.shape[1] - 1\n",
    "        while True:\n",
    "            if not np.all(img[:, crop_right]):\n",
    "                crop_right -= 1\n",
    "                break\n",
    "            crop_right -= 1\n",
    "        img_cropped = img[crop_top:crop_bottom, crop_left:crop_right]\n",
    "        cv2.imwrite(f's{j}_{i}.png', cv2.bitwise_not(img_cropped))"
   ]
  },
  {
   "cell_type": "code",
   "execution_count": 14,
   "metadata": {},
   "outputs": [
    {
     "data": {
      "text/plain": [
       "array([[255, 255, 255, ..., 255, 255, 255],\n       [255, 255, 255, ..., 255, 255, 255],\n       [255, 255, 255, ..., 255, 255, 255],\n       ...,\n       [255, 255, 255, ...,   0,  98, 255],\n       [255, 255, 255, ...,  98, 159, 255],\n       [255, 255, 255, ..., 255, 255, 255]], dtype=uint8)"
      ]
     },
     "execution_count": 14,
     "metadata": {},
     "output_type": "execute_result"
    }
   ],
   "source": [
    "img_path = f'./test/_01_01.png'\n",
    "img = cv2.imread(img_path, 0)\n",
    "img = cv2.bitwise_not(img)\n",
    "img"
   ]
  },
  {
   "cell_type": "code",
   "execution_count": 29,
   "metadata": {},
   "outputs": [
    {
     "data": {
      "image/png": "[encoded data removed]",
      "text/plain": [
       "<Figure size 432x288 with 1 Axes>"
      ]
     },
     "metadata": {},
     "output_type": "display_data"
    }
   ],
   "source": [
    "plt.imshow(img_cropped, cmap=matplotlib.cm.binary, interpolation='nearest')\n",
    "plt.axis('off')\n",
    "plt.show()"
   ]
  },
  {
   "cell_type": "code",
   "execution_count": 17,
   "metadata": {},
   "outputs": [
    {
     "data": {
      "text/plain": [
       "3"
      ]
     },
     "execution_count": 17,
     "metadata": {},
     "output_type": "execute_result"
    }
   ],
   "source": [
    "crop"
   ]
  },
  {
   "cell_type": "code",
   "execution_count": null,
   "metadata": {},
   "outputs": [],
   "source": []
  }
 ],
 "metadata": {
  "kernelspec": {
   "display_name": "Python 2",
   "language": "python",
   "name": "python2"
  },
  "language_info": {
   "codemirror_mode": {
    "name": "ipython",
    "version": 2
   },
   "file_extension": ".py",
   "mimetype": "text/x-python",
   "name": "python",
   "nbconvert_exporter": "python",
   "pygments_lexer": "ipython2",
   "version": "2.7.6"
  }
 },
 "nbformat": 4,
 "nbformat_minor": 0
}
