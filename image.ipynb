{
 "cells": [
  {
   "cell_type": "code",
   "execution_count": 1,
   "metadata": {
    "collapsed": true
   },
   "outputs": [],
   "source": [
    "import image_slicer"
   ]
  },
  {
   "cell_type": "code",
   "execution_count": 11,
   "metadata": {},
   "outputs": [
    {
     "data": {
      "text/plain": [
       "(<Tile #1 - _01_01.png>,\n <Tile #2 - _01_02.png>,\n <Tile #3 - _01_03.png>,\n <Tile #4 - _01_04.png>,\n <Tile #5 - _01_05.png>,\n <Tile #6 - _01_06.png>,\n <Tile #7 - _01_07.png>,\n <Tile #8 - _01_08.png>,\n <Tile #9 - _01_09.png>,\n <Tile #10 - _02_01.png>,\n <Tile #11 - _02_02.png>,\n <Tile #12 - _02_03.png>,\n <Tile #13 - _02_04.png>,\n <Tile #14 - _02_05.png>,\n <Tile #15 - _02_06.png>,\n <Tile #16 - _02_07.png>,\n <Tile #17 - _02_08.png>,\n <Tile #18 - _02_09.png>,\n <Tile #19 - _03_01.png>,\n <Tile #20 - _03_02.png>,\n <Tile #21 - _03_03.png>,\n <Tile #22 - _03_04.png>,\n <Tile #23 - _03_05.png>,\n <Tile #24 - _03_06.png>,\n <Tile #25 - _03_07.png>,\n <Tile #26 - _03_08.png>,\n <Tile #27 - _03_09.png>,\n <Tile #28 - _04_01.png>,\n <Tile #29 - _04_02.png>,\n <Tile #30 - _04_03.png>,\n <Tile #31 - _04_04.png>,\n <Tile #32 - _04_05.png>,\n <Tile #33 - _04_06.png>,\n <Tile #34 - _04_07.png>,\n <Tile #35 - _04_08.png>,\n <Tile #36 - _04_09.png>,\n <Tile #37 - _05_01.png>,\n <Tile #38 - _05_02.png>,\n <Tile #39 - _05_03.png>,\n <Tile #40 - _05_04.png>,\n <Tile #41 - _05_05.png>,\n <Tile #42 - _05_06.png>,\n <Tile #43 - _05_07.png>,\n <Tile #44 - _05_08.png>,\n <Tile #45 - _05_09.png>,\n <Tile #46 - _06_01.png>,\n <Tile #47 - _06_02.png>,\n <Tile #48 - _06_03.png>,\n <Tile #49 - _06_04.png>,\n <Tile #50 - _06_05.png>,\n <Tile #51 - _06_06.png>,\n <Tile #52 - _06_07.png>,\n <Tile #53 - _06_08.png>,\n <Tile #54 - _06_09.png>,\n <Tile #55 - _07_01.png>,\n <Tile #56 - _07_02.png>,\n <Tile #57 - _07_03.png>,\n <Tile #58 - _07_04.png>,\n <Tile #59 - _07_05.png>,\n <Tile #60 - _07_06.png>,\n <Tile #61 - _07_07.png>,\n <Tile #62 - _07_08.png>,\n <Tile #63 - _07_09.png>,\n <Tile #64 - _08_01.png>,\n <Tile #65 - _08_02.png>,\n <Tile #66 - _08_03.png>,\n <Tile #67 - _08_04.png>,\n <Tile #68 - _08_05.png>,\n <Tile #69 - _08_06.png>,\n <Tile #70 - _08_07.png>,\n <Tile #71 - _08_08.png>,\n <Tile #72 - _08_09.png>,\n <Tile #73 - _09_01.png>,\n <Tile #74 - _09_02.png>,\n <Tile #75 - _09_03.png>,\n <Tile #76 - _09_04.png>,\n <Tile #77 - _09_05.png>,\n <Tile #78 - _09_06.png>,\n <Tile #79 - _09_07.png>,\n <Tile #80 - _09_08.png>,\n <Tile #81 - _09_09.png>)"
      ]
     },
     "execution_count": 11,
     "metadata": {},
     "output_type": "execute_result"
    }
   ],
   "source": [
    "tiles = image_slicer.slice('sodoku.png', 81, save=False)\n",
    "image_slicer.save_tiles(tiles, directory='.\\image')"
   ]
  },
  {
   "cell_type": "code",
   "execution_count": 12,
   "metadata": {},
   "outputs": [
    {
     "name": "stderr",
     "output_type": "stream",
     "text": [
      "C:\\Users\\Brian\\Anaconda3\\envs\\final\\lib\\site-packages\\sklearn\\utils\\deprecation.py:77: DeprecationWarning: Function fetch_mldata is deprecated; fetch_mldata was deprecated in version 0.20 and will be removed in version 0.22\n  warnings.warn(msg, category=DeprecationWarning)\nC:\\Users\\Brian\\Anaconda3\\envs\\final\\lib\\site-packages\\sklearn\\utils\\deprecation.py:77: DeprecationWarning: Function mldata_filename is deprecated; mldata_filename was deprecated in version 0.20 and will be removed in version 0.22\n  warnings.warn(msg, category=DeprecationWarning)\n"
     ]
    }
   ],
   "source": [
    "from sklearn.datasets import fetch_mldata\n",
    "\n",
    "mnist = fetch_mldata('MNIST original')"
   ]
  },
  {
   "cell_type": "code",
   "execution_count": 32,
   "metadata": {},
   "outputs": [],
   "source": [
    "import cv2\n",
    "import numpy as np\n",
    "\n",
    "img_path = './image/_01_01.png'\n",
    "img = cv2.bitwise_not(img)\n",
    "img_cropped = img[10:-10, 10:-10]"
   ]
  },
  {
   "cell_type": "code",
   "execution_count": 44,
   "metadata": {},
   "outputs": [
    {
     "data": {
      "image/png": "[encoded data removed]",
      "text/plain": [
       "<Figure size 432x288 with 1 Axes>"
      ]
     },
     "metadata": {},
     "output_type": "display_data"
    }
   ],
   "source": [
    "%matplotlib inline\n",
    "import matplotlib\n",
    "import matplotlib.pyplot as plt\n",
    "\n",
    "plt.imshow(img_cropped, cmap=matplotlib.cm.binary, interpolation='nearest')\n",
    "plt.axis('off')\n",
    "plt.show()"
   ]
  },
  {
   "cell_type": "code",
   "execution_count": 37,
   "metadata": {},
   "outputs": [],
   "source": [
    "from sklearn.ensemble import RandomForestClassifier\n",
    "from sklearn.preprocessing import StandardScaler\n",
    "from sklearn.pipeline import make_pipeline\n",
    "\n",
    "pipeline = make_pipeline(\n",
    "    StandardScaler(),\n",
    "    RandomForestClassifier()\n",
    ")"
   ]
  },
  {
   "cell_type": "code",
   "execution_count": 76,
   "metadata": {},
   "outputs": [
    {
     "data": {
      "text/plain": [
       "Pipeline(memory=None,\n     steps=[('standardscaler', StandardScaler(copy=True, with_mean=True, with_std=True)), ('randomforestclassifier', RandomForestClassifier(bootstrap=True, class_weight=None, criterion='gini',\n            max_depth=None, max_features='auto', max_leaf_nodes=None,\n            min_impurity_decrease=0.0, min...obs=None,\n            oob_score=False, random_state=None, verbose=0,\n            warm_start=False))])"
      ]
     },
     "execution_count": 76,
     "metadata": {},
     "output_type": "execute_result"
    }
   ],
   "source": [
    "answers = [5, 3, 0, 0, 7, 0, 0, 0, 0, 6, 0, 0, 1, 9, 5, 0, 0, 0, 0, 9, 8, 0, 0, 0, 0, 6, 0, 8, 0, 0, 0, 6, 0, 0, 0, 3, 4, 0, 0, \n",
    "           8, 0, 3, 0, 0, 1, 7, 0, 0, 0, 2, 0, 0, 0, 6, 0, 6, 0, 0, 0, 0, 2, 8, 0, 0, 0, 0, 4, 1, 9, 0, 0, 5, 0, 0, 0, 0, 8, 0, 0, 7, 9]\n",
    "data = []\n",
    "for i in range(1, 10):\n",
    "    for j in range(1, 10):\n",
    "        img_path = f'./image/_0{j}_0{i}.png'\n",
    "        img = cv2.imread(img_path, 0)\n",
    "        img = cv2.bitwise_not(img)\n",
    "        img_cropped = img[10:-10, 10:-10]\n",
    "        to_predict = cv2.resize(img_cropped, (28, 28))\n",
    "        data.append(to_predict.flatten())\n",
    "pipeline.fit(data, answers)\n",
    "# pipeline.fit(mnist.data, mnist.target)"
   ]
  },
  {
   "cell_type": "code",
   "execution_count": 43,
   "metadata": {},
   "outputs": [],
   "source": [
    "img_path = './image/_01_01.png'\n",
    "img = cv2.imread(img_path, 0)\n",
    "img = cv2.bitwise_not(img)\n",
    "img_cropped = img[10:-10, 10:-10]"
   ]
  },
  {
   "cell_type": "code",
   "execution_count": 52,
   "metadata": {},
   "outputs": [
    {
     "data": {
      "image/png": "[encoded data removed]",
      "text/plain": [
       "<Figure size 432x288 with 1 Axes>"
      ]
     },
     "metadata": {},
     "output_type": "display_data"
    }
   ],
   "source": [
    "small = cv2.resize(img_cropped, (28, 28))\n",
    "plt.imshow(small, cmap=matplotlib.cm.binary, interpolation='nearest')\n",
    "plt.axis('off')\n",
    "plt.show()"
   ]
  },
  {
   "cell_type": "code",
   "execution_count": 83,
   "metadata": {},
   "outputs": [
    {
     "name": "stdout",
     "output_type": "stream",
     "text": [
      "\n"
     ]
    }
   ],
   "source": [
    "tiles = image_slicer.slice('test.png', 81, save=False)\n",
    "image_slicer.save_tiles(tiles, directory='.\\\\test')\n",
    "print()"
   ]
  },
  {
   "cell_type": "code",
   "execution_count": 85,
   "metadata": {},
   "outputs": [
    {
     "name": "stdout",
     "output_type": "stream",
     "text": [
      "./test/_02_01.png\n"
     ]
    },
    {
     "data": {
      "image/png": "[encoded data removed]",
      "text/plain": [
       "<Figure size 432x288 with 1 Axes>"
      ]
     },
     "metadata": {},
     "output_type": "display_data"
    },
    {
     "name": "stdout",
     "output_type": "stream",
     "text": [
      "[0]\n./test/_02_02.png\n"
     ]
    },
    {
     "name": "stderr",
     "output_type": "stream",
     "text": [
      "C:\\Users\\Brian\\Anaconda3\\envs\\final\\lib\\site-packages\\sklearn\\utils\\validation.py:590: DataConversionWarning: Data with input dtype uint8 was converted to float64 by StandardScaler.\n  warnings.warn(msg, DataConversionWarning)\n"
     ]
    },
    {
     "data": {
      "image/png": "[encoded data removed]",
      "text/plain": [
       "<Figure size 432x288 with 1 Axes>"
      ]
     },
     "metadata": {},
     "output_type": "display_data"
    },
    {
     "name": "stdout",
     "output_type": "stream",
     "text": [
      "[0]\n./test/_02_03.png\n"
     ]
    },
    {
     "name": "stderr",
     "output_type": "stream",
     "text": [
      "C:\\Users\\Brian\\Anaconda3\\envs\\final\\lib\\site-packages\\sklearn\\utils\\validation.py:590: DataConversionWarning: Data with input dtype uint8 was converted to float64 by StandardScaler.\n  warnings.warn(msg, DataConversionWarning)\n"
     ]
    },
    {
     "data": {
      "image/png": "[encoded data removed]",
      "text/plain": [
       "<Figure size 432x288 with 1 Axes>"
      ]
     },
     "metadata": {},
     "output_type": "display_data"
    },
    {
     "name": "stdout",
     "output_type": "stream",
     "text": [
      "[0]\n./test/_02_04.png\n"
     ]
    },
    {
     "name": "stderr",
     "output_type": "stream",
     "text": [
      "C:\\Users\\Brian\\Anaconda3\\envs\\final\\lib\\site-packages\\sklearn\\utils\\validation.py:590: DataConversionWarning: Data with input dtype uint8 was converted to float64 by StandardScaler.\n  warnings.warn(msg, DataConversionWarning)\n"
     ]
    },
    {
     "data": {
      "image/png": "[encoded data removed]",
      "text/plain": [
       "<Figure size 432x288 with 1 Axes>"
      ]
     },
     "metadata": {},
     "output_type": "display_data"
    },
    {
     "name": "stderr",
     "output_type": "stream",
     "text": [
      "C:\\Users\\Brian\\Anaconda3\\envs\\final\\lib\\site-packages\\sklearn\\utils\\validation.py:590: DataConversionWarning: Data with input dtype uint8 was converted to float64 by StandardScaler.\n  warnings.warn(msg, DataConversionWarning)\n"
     ]
    },
    {
     "name": "stdout",
     "output_type": "stream",
     "text": [
      "[0]\n./test/_02_05.png\n"
     ]
    },
    {
     "data": {
      "image/png": "[encoded data removed]",
      "text/plain": [
       "<Figure size 432x288 with 1 Axes>"
      ]
     },
     "metadata": {},
     "output_type": "display_data"
    },
    {
     "name": "stdout",
     "output_type": "stream",
     "text": [
      "[0]\n./test/_02_06.png\n"
     ]
    },
    {
     "name": "stderr",
     "output_type": "stream",
     "text": [
      "C:\\Users\\Brian\\Anaconda3\\envs\\final\\lib\\site-packages\\sklearn\\utils\\validation.py:590: DataConversionWarning: Data with input dtype uint8 was converted to float64 by StandardScaler.\n  warnings.warn(msg, DataConversionWarning)\n"
     ]
    },
    {
     "data": {
      "image/png": "[encoded data removed]",
      "text/plain": [
       "<Figure size 432x288 with 1 Axes>"
      ]
     },
     "metadata": {},
     "output_type": "display_data"
    },
    {
     "name": "stderr",
     "output_type": "stream",
     "text": [
      "C:\\Users\\Brian\\Anaconda3\\envs\\final\\lib\\site-packages\\sklearn\\utils\\validation.py:590: DataConversionWarning: Data with input dtype uint8 was converted to float64 by StandardScaler.\n  warnings.warn(msg, DataConversionWarning)\n"
     ]
    },
    {
     "name": "stdout",
     "output_type": "stream",
     "text": [
      "[0]\n./test/_02_07.png\n"
     ]
    },
    {
     "data": {
      "image/png": "[encoded data removed]",
      "text/plain": [
       "<Figure size 432x288 with 1 Axes>"
      ]
     },
     "metadata": {},
     "output_type": "display_data"
    },
    {
     "name": "stderr",
     "output_type": "stream",
     "text": [
      "C:\\Users\\Brian\\Anaconda3\\envs\\final\\lib\\site-packages\\sklearn\\utils\\validation.py:590: DataConversionWarning: Data with input dtype uint8 was converted to float64 by StandardScaler.\n  warnings.warn(msg, DataConversionWarning)\n"
     ]
    },
    {
     "name": "stdout",
     "output_type": "stream",
     "text": [
      "[0]\n./test/_02_08.png\n"
     ]
    },
    {
     "data": {
      "image/png": "[encoded data removed]",
      "text/plain": [
       "<Figure size 432x288 with 1 Axes>"
      ]
     },
     "metadata": {},
     "output_type": "display_data"
    },
    {
     "name": "stdout",
     "output_type": "stream",
     "text": [
      "[7]\n./test/_02_09.png\n"
     ]
    },
    {
     "name": "stderr",
     "output_type": "stream",
     "text": [
      "C:\\Users\\Brian\\Anaconda3\\envs\\final\\lib\\site-packages\\sklearn\\utils\\validation.py:590: DataConversionWarning: Data with input dtype uint8 was converted to float64 by StandardScaler.\n  warnings.warn(msg, DataConversionWarning)\n"
     ]
    },
    {
     "data": {
      "image/png": "[encoded data removed]",
      "text/plain": [
       "<Figure size 432x288 with 1 Axes>"
      ]
     },
     "metadata": {},
     "output_type": "display_data"
    },
    {
     "name": "stdout",
     "output_type": "stream",
     "text": [
      "[0]\n"
     ]
    },
    {
     "name": "stderr",
     "output_type": "stream",
     "text": [
      "C:\\Users\\Brian\\Anaconda3\\envs\\final\\lib\\site-packages\\sklearn\\utils\\validation.py:590: DataConversionWarning: Data with input dtype uint8 was converted to float64 by StandardScaler.\n  warnings.warn(msg, DataConversionWarning)\n"
     ]
    }
   ],
   "source": [
    "for i in range(1, 10):\n",
    "    for j in range(2, 3):\n",
    "        img_path = f'./test/_0{j}_0{i}.png'\n",
    "        print(img_path)\n",
    "        img = cv2.imread(img_path, 0)\n",
    "        img = cv2.bitwise_not(img)\n",
    "        img_cropped = img[10:-10, 10:-10]\n",
    "        to_predict = cv2.resize(img, (28, 28))\n",
    "        plt.imshow(to_predict, cmap=matplotlib.cm.binary, interpolation='nearest')\n",
    "        plt.axis('off')\n",
    "        plt.show()\n",
    "        print(pipeline.predict(to_predict.flatten().reshape(1, -1)))"
   ]
  },
  {
   "cell_type": "code",
   "execution_count": 86,
   "metadata": {},
   "outputs": [
    {
     "data": {
      "text/plain": [
       "0.8271604938271605"
      ]
     },
     "execution_count": 86,
     "metadata": {},
     "output_type": "execute_result"
    }
   ],
   "source": [
    ""
   ]
  },
  {
   "cell_type": "code",
   "execution_count": null,
   "metadata": {},
   "outputs": [],
   "source": []
  }
 ],
 "metadata": {
  "kernelspec": {
   "display_name": "Python 2",
   "language": "python",
   "name": "python2"
  },
  "language_info": {
   "codemirror_mode": {
    "name": "ipython",
    "version": 2
   },
   "file_extension": ".py",
   "mimetype": "text/x-python",
   "name": "python",
   "nbconvert_exporter": "python",
   "pygments_lexer": "ipython2",
   "version": "2.7.6"
  }
 },
 "nbformat": 4,
 "nbformat_minor": 0
}
