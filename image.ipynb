{
 "cells": [
  {
   "cell_type": "code",
   "execution_count": 35,
   "metadata": {},
   "outputs": [],
   "source": [
    "%matplotlib inline\n",
    "import matplotlib\n",
    "import matplotlib.pyplot as plt\n",
    "import numpy as np\n",
    "import os\n",
    "import cv2\n",
    "import image_slicer\n",
    "from pandas import DataFrame"
   ]
  },
  {
   "cell_type": "code",
   "execution_count": 27,
   "metadata": {},
   "outputs": [],
   "source": [
    "def folder_to_numpy(folder):\n",
    "    if not os.path.exists('temp'): \n",
    "        os.mkdir('temp')      \n",
    "    to_ret = np.array([i for file in os.listdir(folder) for i in separate_file(os.path.join(folder, file)) ])\n",
    "    for file in os.listdir('.\\\\temp'):\n",
    "        os.unlink(os.path.join('.\\\\temp', file))\n",
    "    os.rmdir('.\\\\temp')\n",
    "    return to_ret.astype(float)\n",
    "\n",
    "    \n",
    "def separate_file(file_name): \n",
    "    original = cv2.imread(file_name, 0)\n",
    "    mask = original > 30\n",
    "    \n",
    "    mask_left = mask[:, 0:mask.shape[1]//2]\n",
    "    left = np.max(np.append(np.where(mask_left.all(axis=0))[0], 0))\n",
    "    \n",
    "    mask_right = mask[:, mask.shape[1]//2:mask.shape[1]]\n",
    "    right = np.min(np.append(np.where(mask_right.all(axis=0))[0], mask.shape[1]//2)) + mask.shape[1]//2\n",
    "    \n",
    "    mask_top = mask[0:mask.shape[0]//2, :]\n",
    "    top = np.max(np.append(np.where(mask_top.all(axis=1))[0], 0))\n",
    "    \n",
    "    mask_bottom = mask[mask.shape[0]//2:mask.shape[0], :]\n",
    "    bottom = np.min(np.append(np.where(mask_bottom.all(axis=1))[0], mask.shape[0]//2)) + mask.shape[0]//2\n",
    "    \n",
    "    if abs(left - right) < original.shape[1] * .1 or abs(top - bottom) < original.shape[0] * .1:\n",
    "        cv2.imwrite(os.path.join('.\\\\temp', 'original.jpg'), original)\n",
    "    else:\n",
    "        cv2.imwrite(os.path.join('.\\\\temp', 'original.jpg'), original[top:bottom, left:right])\n",
    "\n",
    "    tiles = image_slicer.slice(os.path.join('.\\\\temp', 'original.jpg'), 81, save=False)\n",
    "    image_slicer.save_tiles(tiles, directory='.\\\\temp', prefix='temp')\n",
    "    \n",
    "    for j in range(1, 10):\n",
    "        for i in range(1, 10):\n",
    "            file = cv2.imread(os.path.join('.\\\\temp', f'temp_0{j}_0{i}.png'), 0)\n",
    "            mask = file < 235\n",
    "            \n",
    "            mask_left = mask[:, 0:mask.shape[1]//2]\n",
    "            left = np.max(np.append(np.where(mask_left.all(axis=0))[0], 0))\n",
    "            \n",
    "            mask_right = mask[:, mask.shape[1]//2:mask.shape[1]]\n",
    "            right = np.min(np.append(np.where(mask_right.all(axis=0))[0], mask.shape[1]//2)) + mask.shape[1]//2\n",
    "            \n",
    "            mask_top = mask[0:mask.shape[0]//2, :]\n",
    "            top = np.max(np.append(np.where(mask_top.all(axis=1))[0], 0))\n",
    "            \n",
    "            mask_bottom = mask[mask.shape[0]//2:mask.shape[0], :]\n",
    "            bottom = np.min(np.append(np.where(mask_bottom.all(axis=1))[0], mask.shape[0]//2)) + mask.shape[0]//2\n",
    "            \n",
    "            best = max([left, top, file.shape[0]-bottom, file.shape[1]-right])       \n",
    "            file = file[best+1:file.shape[0]-best-1, best+1:file.shape[1]-best-1]\n",
    "            \n",
    "            mask = file < 200\n",
    "            coords = np.argwhere(mask)\n",
    "            if len(coords) == 0:\n",
    "                yield cv2.resize(file, (28, 28)).flatten()\n",
    "            else:\n",
    "                x0, y0 = coords.min(axis=0)\n",
    "                x1, y1 = coords.max(axis=0) + 1\n",
    "                yield cv2.resize(file[x0:x1, y0:y1], (28, 28)).flatten()"
   ]
  },
  {
   "cell_type": "code",
   "execution_count": 28,
   "metadata": {},
   "outputs": [],
   "source": [
    "from sklearn.ensemble import RandomForestClassifier\n",
    "from sklearn.preprocessing import StandardScaler\n",
    "from sklearn.pipeline import make_pipeline\n",
    "from sklearn.model_selection import GridSearchCV\n",
    "\n",
    "pipeline = make_pipeline(\n",
    "    StandardScaler(),\n",
    "    RandomForestClassifier()\n",
    ")\n",
    "\n",
    "params = {'randomforestclassifier__n_estimators': [75, 100, 150, 200],\n",
    "          'randomforestclassifier__max_depth': [4, 5, 6]}\n",
    "\n",
    "grid = GridSearchCV(pipeline, params, cv=10)"
   ]
  },
  {
   "cell_type": "code",
   "execution_count": 29,
   "metadata": {},
   "outputs": [
    {
     "data": {
      "text/plain": [
       "GridSearchCV(cv=10, error_score='raise-deprecating',\n       estimator=Pipeline(memory=None,\n     steps=[('standardscaler', StandardScaler(copy=True, with_mean=True, with_std=True)), ('randomforestclassifier', RandomForestClassifier(bootstrap=True, class_weight=None, criterion='gini',\n            max_depth=None, max_features='auto', max_leaf_nodes=None,\n            min_impurity_decrease=0.0, min...obs=None,\n            oob_score=False, random_state=None, verbose=0,\n            warm_start=False))]),\n       fit_params=None, iid='warn', n_jobs=None,\n       param_grid={'randomforestclassifier__n_estimators': [75, 100, 150, 200], 'randomforestclassifier__max_depth': [4, 5, 6]},\n       pre_dispatch='2*n_jobs', refit=True, return_train_score='warn',\n       scoring=None, verbose=0)"
      ]
     },
     "execution_count": 29,
     "metadata": {},
     "output_type": "execute_result"
    }
   ],
   "source": [
    "folder = '.\\\\raw'\n",
    "answers = np.genfromtxt('target.csv', delimiter=',')\n",
    "data = folder_to_numpy(folder)\n",
    "\n",
    "grid.fit(data, answers)"
   ]
  },
  {
   "cell_type": "code",
   "execution_count": 30,
   "metadata": {},
   "outputs": [
    {
     "data": {
      "text/plain": [
       "{'randomforestclassifier__max_depth': 5,\n 'randomforestclassifier__n_estimators': 200}"
      ]
     },
     "execution_count": 30,
     "metadata": {},
     "output_type": "execute_result"
    }
   ],
   "source": [
    "grid.best_params_"
   ]
  },
  {
   "cell_type": "code",
   "execution_count": 31,
   "metadata": {},
   "outputs": [
    {
     "data": {
      "text/plain": [
       "0.9987004548408057"
      ]
     },
     "execution_count": 31,
     "metadata": {},
     "output_type": "execute_result"
    }
   ],
   "source": [
    "grid.best_score_"
   ]
  },
  {
   "cell_type": "code",
   "execution_count": 57,
   "metadata": {},
   "outputs": [
    {
     "name": "stdout",
     "output_type": "stream",
     "text": [
      "[[8. 9. 5. 2. 7. 1. 6. 3. 4.]\n [6. 1. 4. 5. 3. 8. 2. 7. 9.]\n [3. 7. 2. 4. 6. 9. 1. 5. 8.]\n [1. 4. 3. 7. 2. 5. 8. 9. 6.]\n [5. 6. 7. 9. 8. 4. 3. 2. 1.]\n [9. 2. 8. 6. 1. 3. 5. 4. 7.]\n [2. 8. 1. 3. 4. 7. 9. 6. 5.]\n [4. 3. 9. 1. 5. 6. 7. 8. 2.]\n [7. 5. 6. 8. 9. 2. 4. 1. 3.]]\n[[7. 6. 9. 2. 4. 1. 8. 5. 3.]\n [8. 5. 3. 7. 6. 9. 2. 4. 1.]\n [2. 4. 1. 8. 5. 3. 7. 6. 9.]\n [9. 7. 6. 1. 3. 2. 4. 8. 5.]\n [4. 2. 8. 9. 7. 5. 1. 3. 6.]\n [1. 3. 5. 6. 8. 4. 9. 7. 2.]\n [5. 9. 7. 4. 1. 6. 3. 2. 8.]\n [6. 8. 2. 3. 9. 7. 5. 1. 4.]\n [3. 1. 4. 5. 2. 8. 6. 9. 7.]]\n"
     ]
    }
   ],
   "source": [
    "test_folder = '.\\\\test'\n",
    "test_data = folder_to_numpy(test_folder) \n",
    "\n",
    "predictions = grid.predict(test_data)\n",
    "for i in predictions.reshape((predictions.shape[0]//81, 9, 9)):\n",
    "    print(solve(i))"
   ]
  },
  {
   "cell_type": "code",
   "execution_count": 54,
   "metadata": {},
   "outputs": [],
   "source": [
    "def possible(info):\n",
    "    for ele in range(81):\n",
    "        if info[ele//9, ele%9] != 0:\n",
    "            yield np.array([info[ele//9, ele%9]])\n",
    "        else:\n",
    "            invalid = np.unique(np.concatenate([info[ele//9, :], \n",
    "                                                info[:, ele%9], \n",
    "                                                info[ele//9-ele//9 % 3: ele//9-ele//9 % 3+3, \n",
    "                                                     ele % 9-ele % 3: ele % 9-ele % 3+3\n",
    "                                                    ].flatten()\n",
    "                                                ]))\n",
    "            yield np.array([i for i in range(1, 10) if i not in invalid])"
   ]
  },
  {
   "cell_type": "code",
   "execution_count": 56,
   "metadata": {},
   "outputs": [],
   "source": [
    "def solve(puzzle):\n",
    "    puzzle = DataFrame(data={'possible': [x for x in possible(puzzle)]})\n",
    "    i = 0\n",
    "    mapping = np.zeros((9, 9))\n",
    "    while i != 81:\n",
    "        # previous mistake, backing up\n",
    "        possibles = puzzle.iat[i, 0]\n",
    "        \n",
    "        if mapping[i//9, i % 9] == np.max(possibles):\n",
    "            mapping[i//9, i % 9] = 0\n",
    "            i -= 1\n",
    "            if i == -1:\n",
    "                print(\"Puzzle cannot be solved\")\n",
    "                break\n",
    "            continue\n",
    "        else:\n",
    "            set_possibles = set(possibles[np.where(possibles > mapping[i//9, i%9])])        \n",
    "            invalid = set(np.concatenate([mapping[i//9, 0:i%9],\n",
    "                                          mapping[0:i//9, i%9],\n",
    "                                          mapping[i//9-i//9%3:i//9, i%9 - i%3:i%9 - i%3 + 3].flatten()\n",
    "                                         ]))\n",
    "    \n",
    "            results = set_possibles - invalid\n",
    "            if len(results) == 0:\n",
    "                mapping[i//9, i%9] = 0\n",
    "                i -= 1\n",
    "            else:\n",
    "                mapping[i//9, i%9] = min(results)\n",
    "                i += 1\n",
    "    \n",
    "    return mapping"
   ]
  }
 ],
 "metadata": {
  "kernelspec": {
   "display_name": "Python 2",
   "language": "python",
   "name": "python2"
  },
  "language_info": {
   "codemirror_mode": {
    "name": "ipython",
    "version": 2
   },
   "file_extension": ".py",
   "mimetype": "text/x-python",
   "name": "python",
   "nbconvert_exporter": "python",
   "pygments_lexer": "ipython2",
   "version": "2.7.6"
  }
 },
 "nbformat": 4,
 "nbformat_minor": 0
}
